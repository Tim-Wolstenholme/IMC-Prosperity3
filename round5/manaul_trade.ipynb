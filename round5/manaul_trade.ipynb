{
 "cells": [
  {
   "cell_type": "code",
   "execution_count": 29,
   "id": "initial_id",
   "metadata": {
    "collapsed": true,
    "ExecuteTime": {
     "end_time": "2025-04-20T16:48:05.038694200Z",
     "start_time": "2025-04-20T16:48:05.017929900Z"
    }
   },
   "outputs": [
    {
     "name": "stdout",
     "output_type": "stream",
     "text": [
      "['CLARABEL', 'ECOS', 'ECOS_BB', 'OSQP', 'SCIPY', 'SCS']\n"
     ]
    }
   ],
   "source": [
    "import numpy as np\n",
    "import cvxpy as cp\n",
    "from wolframclient.evaluation import WolframLanguageSession\n",
    "from wolframclient.language import wl, wlexpr\n",
    "print(cp.installed_solvers())"
   ]
  },
  {
   "cell_type": "code",
   "outputs": [],
   "source": [
    "sentiments = {\n",
    "    'Haystacks': '+',\n",
    "    'Ranch': '++',\n",
    "    'Needles': '----',\n",
    "    'SolarPanels': '---',\n",
    "    'RedFlags': '++',\n",
    "    'VR': '+++',\n",
    "    'CosmicClean': '-',\n",
    "    'Shirts': '+',\n",
    "    'Coffee': '--'\n",
    "}\n",
    "returns = {\n",
    "    '+': 0.02,\n",
    "    '++': 0.15,\n",
    "    '+++': 0.30,\n",
    "    '-': -0.02,\n",
    "    '--': -0.15,\n",
    "    '---': -0.3,\n",
    "    '----': -0.7\n",
    "}\n",
    "\n",
    "products = list(sentiments.keys())"
   ],
   "metadata": {
    "collapsed": false,
    "ExecuteTime": {
     "end_time": "2025-04-20T16:44:20.816423700Z",
     "start_time": "2025-04-20T16:44:20.810106100Z"
    }
   },
   "id": "b8df17aa19797095",
   "execution_count": 21
  },
  {
   "cell_type": "code",
   "outputs": [],
   "source": [],
   "metadata": {
    "collapsed": false
   },
   "id": "5ede04ac60db5d75"
  },
  {
   "cell_type": "code",
   "outputs": [
    {
     "name": "stdout",
     "output_type": "stream",
     "text": [
      "Polishing not needed - no active set detected at optimal point\n",
      "Optimal allocation without integer constraints:\n",
      "Position in Haystacks: 0.83%\n",
      "Position in Ranch: 6.25%\n",
      "Position in Needles: -29.17%\n",
      "Position in SolarPanels: -12.50%\n",
      "Position in RedFlags: 6.25%\n",
      "Position in VR: 12.50%\n",
      "Position in CosmicClean: -0.83%\n",
      "Position in Shirts: 0.83%\n",
      "Position in Coffee: -6.25%\n"
     ]
    }
   ],
   "source": [
    "\n",
    "rets = np.array([returns[sentiments[products[i-1]]] for i in range(1,10)])\n",
    "pi = cp.Variable(9)\n",
    "objective = cp.Minimize(120 * cp.sum_squares(pi) - 10000 * rets.T @ pi)\n",
    "constraints = [cp.norm(pi, 1) <= 100]\n",
    "prob = cp.Problem(objective, constraints)\n",
    "\n",
    "prob.solve()\n",
    "print('Optimal allocation without integer constraints:')\n",
    "for i in range(9):\n",
    "    print(\"Position in \", products[i], ': ', f\"{pi.value[i]:,.2f}\", '%', sep='')"
   ],
   "metadata": {
    "collapsed": false,
    "ExecuteTime": {
     "end_time": "2025-04-20T16:51:43.428881200Z",
     "start_time": "2025-04-20T16:51:43.406794100Z"
    }
   },
   "id": "88a409a4927d6c91",
   "execution_count": 36
  },
  {
   "cell_type": "code",
   "outputs": [],
   "source": [
    "s1 = ' + '.join(['('+str(returns[sentiments[products[i-1]]])+')*p'+str(i)+'*10000-120*(p'+str(i)+')^2' for i in range(1,10)])\n",
    "s2 = ' + '.join(['Abs[p'+str(i)+']' for i in range(1,10)]) + '<=100,'\n",
    "s3 = ', '.join(['Element[p'+str(i)+', Integers]' for i in range(1,10)])\n",
    "s4 = ', '.join(['p'+str(i) for i in range(1,10)])"
   ],
   "metadata": {
    "collapsed": false,
    "ExecuteTime": {
     "end_time": "2025-04-20T17:34:30.542631300Z",
     "start_time": "2025-04-20T17:34:30.535929700Z"
    }
   },
   "id": "86bd8cb12113bf0e",
   "execution_count": 44
  },
  {
   "cell_type": "code",
   "outputs": [
    {
     "name": "stderr",
     "output_type": "stream",
     "text": [
      "Failed to converge to the requested accuracy or precision within 100 iterations.\n",
      "Failed to converge to the requested accuracy or precision within 100 iterations.\n"
     ]
    }
   ],
   "source": [
    "with  WolframLanguageSession() as session:\n",
    "    session.start()\n",
    "    val_max, sol = session.evaluate(wlexpr('NMaximize[{'+s1+','+s2+s3+'}, {'+s4+'}]'))"
   ],
   "metadata": {
    "collapsed": false,
    "ExecuteTime": {
     "end_time": "2025-04-20T17:34:35.920877800Z",
     "start_time": "2025-04-20T17:34:32.711481800Z"
    }
   },
   "id": "cd7922f36ccaf642",
   "execution_count": 45
  },
  {
   "cell_type": "code",
   "outputs": [
    {
     "name": "stdout",
     "output_type": "stream",
     "text": [
      "Maximum profit achievable: 153800.0\n",
      "Percentage of capital used: 75%\n"
     ]
    }
   ],
   "source": [
    "print(\"Maximum profit achievable:\", val_max)\n",
    "print(\"Percentage of capital used: \", sum([abs(el[1]) for el in sol]), '%', sep='')"
   ],
   "metadata": {
    "collapsed": false,
    "ExecuteTime": {
     "end_time": "2025-04-20T17:34:36.573202200Z",
     "start_time": "2025-04-20T17:34:36.570081300Z"
    }
   },
   "id": "f9243bdb65aad26d",
   "execution_count": 46
  },
  {
   "cell_type": "code",
   "outputs": [
    {
     "name": "stdout",
     "output_type": "stream",
     "text": [
      "Position in Haystacks: 1%\n",
      "Position in Ranch: 6%\n",
      "Position in Needles: -29%\n",
      "Position in SolarPanels: -12%\n",
      "Position in RedFlags: 6%\n",
      "Position in VR: 13%\n",
      "Position in CosmicClean: -1%\n",
      "Position in Shirts: 1%\n",
      "Position in Coffee: -6%\n"
     ]
    }
   ],
   "source": [
    "for i in range(9):\n",
    "    print(\"Position in \", products[i], ': ', sol[i][1], '%', sep='')"
   ],
   "metadata": {
    "collapsed": false,
    "ExecuteTime": {
     "end_time": "2025-04-20T17:34:39.518016200Z",
     "start_time": "2025-04-20T17:34:39.508993800Z"
    }
   },
   "id": "2cf4cc4e417d4aea",
   "execution_count": 47
  }
 ],
 "metadata": {
  "kernelspec": {
   "display_name": "Python 3",
   "language": "python",
   "name": "python3"
  },
  "language_info": {
   "codemirror_mode": {
    "name": "ipython",
    "version": 2
   },
   "file_extension": ".py",
   "mimetype": "text/x-python",
   "name": "python",
   "nbconvert_exporter": "python",
   "pygments_lexer": "ipython2",
   "version": "2.7.6"
  }
 },
 "nbformat": 4,
 "nbformat_minor": 5
}
