{
 "cells": [
  {
   "cell_type": "markdown",
   "source": [
    "# Research for Manual:\n",
    "Last year, here were the different assets and their associated profits: \\\n",
    "{'Refrigerators': 0.020713448079427082,\\\n",
    " 'Earrings': 0.12367402886284722,\\\n", 
    " 'Blankets': -0.32888405330882353,\\\n", 
    " 'Sleds': -0.2829537109375,\\\n", 
    " 'Sculptures': 0.19637428385416666,\\\n", 
    " 'PS6': 0.3095545703125,\\\n", 
    " 'Serum': -0.8157531666666666,\\\n", 
    " 'Lamps': 6.103515625e-05,\\\n", 
    " 'Chocolate': -0.000404595947265625} \\ \\ \\ \n",
    " I found decent mappings between a few of the assets, this year in terms of the news stories. \\\n",
    "* Statues - Red flag\\\n",  
    "* E blankets - Needles\\\n", 
    "* PS6 - VR\\\n", 
    "* Ranch - Earrings\\\n", 
    "* Fridges - Haystacks\\\n", 
    "* Dog Sled - Solar Panels \n", 
    "I categorised based on the last year returns on the mappings, and the rest purely on vibe, using a system of + and - just to reduce overfitting in the data.\n",
    " "
   ],
   "metadata": {
    "collapsed": false
   },
   "id": "11cddb76ed06589e"
  },
  {
   "cell_type": "markdown",
   "source": [],
   "metadata": {
    "collapsed": false
   },
   "id": "a3eef30a592d7333"
  },
  {
   "cell_type": "code",
   "execution_count": null,
   "id": "initial_id",
   "metadata": {
    "collapsed": true
   },
   "outputs": [],
   "source": [
    "import numpy as np\n",
    "import cvxpy as cp\n",
    "from wolframclient.evaluation import WolframLanguageSession\n",
    "from wolframclient.language import wl, wlexpr\n",
    "print(cp.installed_solvers())"
   ]
  },
  {
   "cell_type": "code",
   "outputs": [],
   "source": [
    "sentiments = {\n",
    "    'Haystacks': '+',\n",
    "    'Ranch': '++',\n",
    "    'Needles': '----',\n",
    "    'SolarPanels': '---',\n",
    "    'RedFlags': '++',\n",
    "    'VR': '+++',\n",
    "    'CosmicClean': '-',\n",
    "    'Shirts': '+',\n",
    "    'Coffee': '--'\n",
    "}\n",
    "returns = {\n",
    "    '+': 0.02,\n",
    "    '++': 0.15,\n",
    "    '+++': 0.30,\n",
    "    '-': -0.02,\n",
    "    '--': -0.15,\n",
    "    '---': -0.3,\n",
    "    '----': -0.7\n",
    "}\n",
    "\n",
    "products = list(sentiments.keys())"
   ],
   "metadata": {
    "collapsed": false
   },
   "id": "b8df17aa19797095",
   "execution_count": null
  },
  {
   "cell_type": "code",
   "outputs": [],
   "source": [
    "\n",
    "rets = np.array([returns[sentiments[products[i-1]]] for i in range(1,10)])\n",
    "pi = cp.Variable(9)\n",
    "objective = cp.Minimize(120 * cp.sum_squares(pi) - 10000 * rets.T @ pi)\n",
    "constraints = [cp.norm(pi, 1) <= 100]\n",
    "prob = cp.Problem(objective, constraints)\n",
    "\n",
    "prob.solve()\n",
    "print('Optimal allocation without integer constraints:')\n",
    "for i in range(9):\n",
    "    print(\"Position in \", products[i], ': ', f\"{pi.value[i]:,.2f}\", '%', sep='')"
   ],
   "metadata": {
    "collapsed": false
   },
   "id": "88a409a4927d6c91",
   "execution_count": null
  },
  {
   "cell_type": "code",
   "outputs": [],
   "source": [
    "s1 = ' + '.join(['('+str(returns[sentiments[products[i-1]]])+')*p'+str(i)+'*10000-120*(p'+str(i)+')^2' for i in range(1,10)])\n",
    "s2 = ' + '.join(['Abs[p'+str(i)+']' for i in range(1,10)]) + '<=100,'\n",
    "s3 = ', '.join(['Element[p'+str(i)+', Integers]' for i in range(1,10)])\n",
    "s4 = ', '.join(['p'+str(i) for i in range(1,10)])"
   ],
   "metadata": {
    "collapsed": false
   },
   "id": "86bd8cb12113bf0e",
   "execution_count": null
  },
  {
   "cell_type": "code",
   "outputs": [],
   "source": [
    "with  WolframLanguageSession() as session:\n",
    "    session.start()\n",
    "    val_max, sol = session.evaluate(wlexpr('NMaximize[{'+s1+','+s2+s3+'}, {'+s4+'}]'))"
   ],
   "metadata": {
    "collapsed": false
   },
   "id": "cd7922f36ccaf642",
   "execution_count": null
  },
  {
   "cell_type": "code",
   "outputs": [],
   "source": [
    "print(\"Maximum profit achievable:\", val_max)\n",
    "print(\"Percentage of capital used: \", sum([abs(el[1]) for el in sol]), '%', sep='')"
   ],
   "metadata": {
    "collapsed": false
   },
   "id": "f9243bdb65aad26d",
   "execution_count": null
  },
  {
   "cell_type": "code",
   "outputs": [],
   "source": [
    "for i in range(9):\n",
    "    print(\"Position in \", products[i], ': ', sol[i][1], '%', sep='')"
   ],
   "metadata": {
    "collapsed": false
   },
   "id": "2cf4cc4e417d4aea",
   "execution_count": null
  }
 ],
 "metadata": {
  "kernelspec": {
   "display_name": "Python 3",
   "language": "python",
   "name": "python3"
  },
  "language_info": {
   "codemirror_mode": {
    "name": "ipython",
    "version": 2
   },
   "file_extension": ".py",
   "mimetype": "text/x-python",
   "name": "python",
   "nbconvert_exporter": "python",
   "pygments_lexer": "ipython2",
   "version": "2.7.6"
  }
 },
 "nbformat": 4,
 "nbformat_minor": 5
}
